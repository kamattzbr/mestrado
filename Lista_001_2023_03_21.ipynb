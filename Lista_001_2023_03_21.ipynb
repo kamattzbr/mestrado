{
  "nbformat": 4,
  "nbformat_minor": 0,
  "metadata": {
    "colab": {
      "provenance": []
    },
    "kernelspec": {
      "name": "python3",
      "display_name": "Python 3"
    },
    "language_info": {
      "name": "python"
    }
  },
  "cells": [
    {
      "cell_type": "markdown",
      "source": [],
      "metadata": {
        "id": "zbbUEGcZ1-Ew"
      }
    },
    {
      "cell_type": "markdown",
      "source": [
        "**Matheus Souza Martins**"
      ],
      "metadata": {
        "id": "kTw9D0ay6yod"
      }
    },
    {
      "cell_type": "markdown",
      "source": [
        "#Exercício 1"
      ],
      "metadata": {
        "id": "1QDTB9gqzTPq"
      }
    },
    {
      "cell_type": "code",
      "execution_count": null,
      "metadata": {
        "colab": {
          "base_uri": "https://localhost:8080/"
        },
        "id": "nYEJrKr1zHih",
        "outputId": "a65c8a38-6b3d-4ea5-d862-187f6a026aa6"
      },
      "outputs": [
        {
          "output_type": "stream",
          "name": "stdout",
          "text": [
            "Mover 1 para b\n",
            "Mover 2 para c\n",
            "Mover 1 para c\n",
            "Mover 3 para b\n",
            "Mover 1 para b\n",
            "Mover 2 para a\n",
            "Mover 1 para a\n",
            "Mover 3 para c\n",
            "Mover 1 para b\n",
            "Mover 2 para c\n",
            "Mover 1 para c -> 1,2 e 3 empilhados na ordem crescente no sentido de cima para baixo na haste c\n"
          ]
        }
      ],
      "source": [
        "print(\"Mover 1 para b\")\n",
        "print(\"Mover 2 para c\")\n",
        "print(\"Mover 1 para c\")\n",
        "print(\"Mover 3 para b\")\n",
        "print(\"Mover 1 para b\")\n",
        "print(\"Mover 2 para a\")\n",
        "print(\"Mover 1 para a\")\n",
        "print(\"Mover 3 para c\")\n",
        "print(\"Mover 1 para b\")\n",
        "print(\"Mover 2 para c\")\n",
        "print(\"Mover 1 para c -> 1,2 e 3 empilhados na ordem crescente no sentido de cima para baixo na haste c\")"
      ]
    },
    {
      "cell_type": "markdown",
      "source": [
        "#Exercício 2"
      ],
      "metadata": {
        "id": "JbZF4fEe2GRz"
      }
    },
    {
      "cell_type": "code",
      "source": [
        "w = 24.89\n",
        "x = \"professor wanderlei\"\n",
        "y = 2023100096\n",
        "z = True\n",
        "\n",
        "print(\"Variável W de valor:\", w, \"| Seu tipo é:\", type(w))\n",
        "print(\"Variável x de valor:\", x, \"| Seu tipo é:\", type(x))\n",
        "print(\"Variável y de valor:\", y, \"| Seu tipo é:\", type(y))\n",
        "print(\"Variável z de valor:\", z, \"| Seu tipo é:\", type(z))\n",
        "\n",
        "\n"
      ],
      "metadata": {
        "colab": {
          "base_uri": "https://localhost:8080/"
        },
        "id": "ELhqI8Of2JHq",
        "outputId": "04ac6418-2407-4dcb-f973-68c82600f9b9"
      },
      "execution_count": null,
      "outputs": [
        {
          "output_type": "stream",
          "name": "stdout",
          "text": [
            "Variável W de valor: 24.89 | Seu tipo é: <class 'float'>\n",
            "Variável x de valor: professor wanderlei | Seu tipo é: <class 'str'>\n",
            "Variável y de valor: 2023100096 | Seu tipo é: <class 'int'>\n",
            "Variável z de valor: True | Seu tipo é: <class 'bool'>\n"
          ]
        }
      ]
    },
    {
      "cell_type": "markdown",
      "source": [
        "#Exercício 3"
      ],
      "metadata": {
        "id": "9fKi6YZr7FyF"
      }
    },
    {
      "cell_type": "code",
      "source": [
        "a = 5\n",
        "b = 9\n",
        "\n",
        "print(\"Soma:\", a + b)\n",
        "print(\"Subtração:\", a - b)\n",
        "print(\"Divisão:\", a/b)\n",
        "print(\"Multiplicação:\", a*b)\n",
        "print(\"Potenciação:\", a**b)"
      ],
      "metadata": {
        "colab": {
          "base_uri": "https://localhost:8080/"
        },
        "id": "dHqtvEoe7Ezg",
        "outputId": "f65978ed-ddc0-4de6-ae19-af045003cb92"
      },
      "execution_count": null,
      "outputs": [
        {
          "output_type": "stream",
          "name": "stdout",
          "text": [
            "Soma: 14\n",
            "Subtração: -4\n",
            "Divisão: 0.5555555555555556\n",
            "Multiplicação: 45\n",
            "Potenciação: 1953125\n"
          ]
        }
      ]
    },
    {
      "cell_type": "markdown",
      "source": [
        "#Exercício 4"
      ],
      "metadata": {
        "id": "oP9gvZjM8Mmb"
      }
    },
    {
      "cell_type": "code",
      "source": [
        "n0 = 1\n",
        "n1 = 3\n",
        "n2 = 4.5\n",
        "n3 = 10\n",
        "n4 = 9.5\n",
        "\n",
        "print(\"Média Aritmética:\", n0/5 + n1/5 + n2/5 + n3/5 + n4/5)\n",
        "print(\"Média Ponderada:\", n0*0.1 + n1*0.05 + n2*0.05+ n3*0.4 + n4*0.4)"
      ],
      "metadata": {
        "colab": {
          "base_uri": "https://localhost:8080/"
        },
        "id": "xRUGd09O8OmN",
        "outputId": "a84d03c3-f5ff-4693-b802-fdb9ce0769a8"
      },
      "execution_count": null,
      "outputs": [
        {
          "output_type": "stream",
          "name": "stdout",
          "text": [
            "Média Aritmética: 5.6\n",
            "Média Ponderada: 8.275\n"
          ]
        }
      ]
    },
    {
      "cell_type": "markdown",
      "source": [
        "#Exercício 5"
      ],
      "metadata": {
        "id": "uDI4Cr4f_P0Z"
      }
    },
    {
      "cell_type": "code",
      "source": [
        "a = 9\n",
        "b = 5\n",
        "\n",
        "print(\"Soma:\", a + b)\n",
        "print(\"Subtração:\", a - b)\n",
        "print(\"Divisão:\", a/b)\n",
        "print(\"Multiplicação:\", a*b)\n",
        "print(\"Potenciação:\", a**b)"
      ],
      "metadata": {
        "colab": {
          "base_uri": "https://localhost:8080/"
        },
        "id": "zfzUJuQ6_SZV",
        "outputId": "0dfbb22b-cdf3-4124-af57-01182269a76e"
      },
      "execution_count": null,
      "outputs": [
        {
          "output_type": "stream",
          "name": "stdout",
          "text": [
            "Soma: 14\n",
            "Subtração: 4\n",
            "Divisão: 1.8\n",
            "Multiplicação: 45\n",
            "Potenciação: 59049\n"
          ]
        }
      ]
    },
    {
      "cell_type": "markdown",
      "source": [
        "#Exercício 6"
      ],
      "metadata": {
        "id": "vGrozJy0_y82"
      }
    },
    {
      "cell_type": "code",
      "source": [
        "import math\n",
        "\n",
        "a = 9 + 7 + 8/4\n",
        "b = 1 - 4 * 3/6 - 3**2\n",
        "c = 5**2 - 4/2 + math.sqrt(1+3*5)/2\n",
        "d = 2*4 == 24/3\n",
        "e = 3*5/4 <= 3**2/0.5\n",
        "f = 2 < 5 and 15/3\n",
        "\n",
        "\n",
        "print(\"O valor de a:\", a)\n",
        "print(\"O valor de b:\", b)\n",
        "print(\"O valor de c:\", c)\n",
        "print(\"O valor de d:\", d)\n",
        "print(\"O valor de e:\", e)\n",
        "print (\"O valor de f:\", f)"
      ],
      "metadata": {
        "id": "PmA-jmbv_1ad",
        "colab": {
          "base_uri": "https://localhost:8080/"
        },
        "outputId": "2a3f8b3a-3c56-41ae-bfee-4034d4bb0e4b"
      },
      "execution_count": 11,
      "outputs": [
        {
          "output_type": "stream",
          "name": "stdout",
          "text": [
            "O valor de a: 18.0\n",
            "O valor de b: -10.0\n",
            "O valor de c: 25.0\n",
            "O valor de d: True\n",
            "O valor de e: True\n",
            "O valor de f: 5.0\n"
          ]
        }
      ]
    },
    {
      "cell_type": "markdown",
      "source": [
        "#Exercício 7"
      ],
      "metadata": {
        "id": "2Ur1xwJqAo0R"
      }
    },
    {
      "cell_type": "code",
      "source": [
        "CAA = 'I'\n",
        "TIPO = 'POS'\n",
        "CLASS1 = (CAA == 'I' and TIPO == 'PRE') or ((CAA == 'I' or CAA == 'II') and TIPO == 'POS')\n",
        "CLASS2 = (CAA == 'II' and TIPO == 'PRE') or ((CAA == 'III' or CAA == 'IV') and TIPO == 'POS')\n",
        "CLASS3 = ((CAA == 'III' or CAA == 'IV') and TIPO == 'PRE')\n",
        "print('Protensão Parcial: ', CLASS1)\n",
        "print('Protensão Limitada: ', CLASS2)\n",
        "print('Protensão Completa: ', CLASS3)"
      ],
      "metadata": {
        "id": "oRiBOomDAr6Z",
        "colab": {
          "base_uri": "https://localhost:8080/"
        },
        "outputId": "b430676c-c69b-4ef9-c742-a2843bc88bd7"
      },
      "execution_count": 14,
      "outputs": [
        {
          "output_type": "stream",
          "name": "stdout",
          "text": [
            "Protensão Parcial:  True\n",
            "Protensão Limitada:  False\n",
            "Protensão Completa:  False\n"
          ]
        }
      ]
    }
  ]
}